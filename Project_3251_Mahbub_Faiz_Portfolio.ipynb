{
 "cells": [
  {
   "cell_type": "markdown",
   "metadata": {},
   "source": [
    "# Portfolio Simulation -- S&P 500, T-Bills, Gold -- a Portfolio of Two Assets\n",
    "## Mahbub_Faiz_Project_3251_April 2018\n",
    "### Submitted to: Mr. Rodolfo Rivas, Course Teacher, University of Toronto"
   ]
  },
  {
   "cell_type": "code",
   "execution_count": 15,
   "metadata": {
    "collapsed": true
   },
   "outputs": [],
   "source": [
    "import pandas as pd\n",
    "from pandas_datareader import data\n",
    "import matplotlib.pyplot as plt\n",
    "import datetime as datetime\n",
    "from numpy import *\n",
    "%matplotlib inline"
   ]
  },
  {
   "cell_type": "code",
   "execution_count": 16,
   "metadata": {
    "collapsed": false
   },
   "outputs": [
    {
     "data": {
      "text/html": [
       "<div>\n",
       "<table border=\"1\" class=\"dataframe\">\n",
       "  <thead>\n",
       "    <tr style=\"text-align: right;\">\n",
       "      <th></th>\n",
       "      <th>Date</th>\n",
       "      <th>Open</th>\n",
       "      <th>High</th>\n",
       "      <th>Low</th>\n",
       "      <th>Close</th>\n",
       "      <th>Adj Close</th>\n",
       "      <th>Volume</th>\n",
       "    </tr>\n",
       "    <tr>\n",
       "      <th>Date</th>\n",
       "      <th></th>\n",
       "      <th></th>\n",
       "      <th></th>\n",
       "      <th></th>\n",
       "      <th></th>\n",
       "      <th></th>\n",
       "      <th></th>\n",
       "    </tr>\n",
       "  </thead>\n",
       "  <tbody>\n",
       "    <tr>\n",
       "      <th>1976-01-02</th>\n",
       "      <td>1976-01-02</td>\n",
       "      <td>90.190002</td>\n",
       "      <td>91.180000</td>\n",
       "      <td>89.809998</td>\n",
       "      <td>90.900002</td>\n",
       "      <td>90.900002</td>\n",
       "      <td>10300000</td>\n",
       "    </tr>\n",
       "    <tr>\n",
       "      <th>1976-01-05</th>\n",
       "      <td>1976-01-05</td>\n",
       "      <td>90.900002</td>\n",
       "      <td>92.839996</td>\n",
       "      <td>90.849998</td>\n",
       "      <td>92.580002</td>\n",
       "      <td>92.580002</td>\n",
       "      <td>21960000</td>\n",
       "    </tr>\n",
       "    <tr>\n",
       "      <th>1976-01-06</th>\n",
       "      <td>1976-01-06</td>\n",
       "      <td>92.580002</td>\n",
       "      <td>94.180000</td>\n",
       "      <td>92.370003</td>\n",
       "      <td>93.529999</td>\n",
       "      <td>93.529999</td>\n",
       "      <td>31270000</td>\n",
       "    </tr>\n",
       "    <tr>\n",
       "      <th>1976-01-07</th>\n",
       "      <td>1976-01-07</td>\n",
       "      <td>93.529999</td>\n",
       "      <td>95.150002</td>\n",
       "      <td>92.910004</td>\n",
       "      <td>93.949997</td>\n",
       "      <td>93.949997</td>\n",
       "      <td>33170000</td>\n",
       "    </tr>\n",
       "    <tr>\n",
       "      <th>1976-01-08</th>\n",
       "      <td>1976-01-08</td>\n",
       "      <td>93.949997</td>\n",
       "      <td>95.470001</td>\n",
       "      <td>93.410004</td>\n",
       "      <td>94.580002</td>\n",
       "      <td>94.580002</td>\n",
       "      <td>29030000</td>\n",
       "    </tr>\n",
       "  </tbody>\n",
       "</table>\n",
       "</div>"
      ],
      "text/plain": [
       "                  Date       Open       High        Low      Close  Adj Close  \\\n",
       "Date                                                                            \n",
       "1976-01-02  1976-01-02  90.190002  91.180000  89.809998  90.900002  90.900002   \n",
       "1976-01-05  1976-01-05  90.900002  92.839996  90.849998  92.580002  92.580002   \n",
       "1976-01-06  1976-01-06  92.580002  94.180000  92.370003  93.529999  93.529999   \n",
       "1976-01-07  1976-01-07  93.529999  95.150002  92.910004  93.949997  93.949997   \n",
       "1976-01-08  1976-01-08  93.949997  95.470001  93.410004  94.580002  94.580002   \n",
       "\n",
       "              Volume  \n",
       "Date                  \n",
       "1976-01-02  10300000  \n",
       "1976-01-05  21960000  \n",
       "1976-01-06  31270000  \n",
       "1976-01-07  33170000  \n",
       "1976-01-08  29030000  "
      ]
     },
     "execution_count": 16,
     "metadata": {},
     "output_type": "execute_result"
    }
   ],
   "source": [
    "#Data & Scraping for S&P 500 collected from IBM Big Data University Source. \n",
    "start_date = datetime.date(1976,1,1)\n",
    "end_date = datetime.date(2017,1,1)\n",
    "\n",
    "# Downloading S&P 500 index data\n",
    "try:\n",
    "    SnP500_Ddata = web.DataReader('^GSPC','yahoo',start_date,end_date)\n",
    "except:\n",
    "    SnP500_Ddata = pd.read_csv(\"http://analytics.romanko.ca/data/SP500_hist.csv\")\n",
    "    SnP500_Ddata.index = pd.to_datetime(SnP500_Ddata.Date)\n",
    "SnP500_Ddata.head()"
   ]
  },
  {
   "cell_type": "code",
   "execution_count": 17,
   "metadata": {
    "collapsed": false
   },
   "outputs": [
    {
     "data": {
      "text/html": [
       "<div>\n",
       "<table border=\"1\" class=\"dataframe\">\n",
       "  <thead>\n",
       "    <tr style=\"text-align: right;\">\n",
       "      <th></th>\n",
       "      <th>Volume</th>\n",
       "      <th>Adj Close</th>\n",
       "    </tr>\n",
       "    <tr>\n",
       "      <th>Date</th>\n",
       "      <th></th>\n",
       "      <th></th>\n",
       "    </tr>\n",
       "  </thead>\n",
       "  <tbody>\n",
       "    <tr>\n",
       "      <th>2012-12-31</th>\n",
       "      <td>3204330000</td>\n",
       "      <td>1426.189941</td>\n",
       "    </tr>\n",
       "    <tr>\n",
       "      <th>2013-12-31</th>\n",
       "      <td>2312840000</td>\n",
       "      <td>1848.359985</td>\n",
       "    </tr>\n",
       "    <tr>\n",
       "      <th>2014-12-31</th>\n",
       "      <td>2606070000</td>\n",
       "      <td>2058.899902</td>\n",
       "    </tr>\n",
       "    <tr>\n",
       "      <th>2015-12-31</th>\n",
       "      <td>2655330000</td>\n",
       "      <td>2043.939941</td>\n",
       "    </tr>\n",
       "    <tr>\n",
       "      <th>2016-12-31</th>\n",
       "      <td>2670900000</td>\n",
       "      <td>2238.830078</td>\n",
       "    </tr>\n",
       "  </tbody>\n",
       "</table>\n",
       "</div>"
      ],
      "text/plain": [
       "                Volume    Adj Close\n",
       "Date                               \n",
       "2012-12-31  3204330000  1426.189941\n",
       "2013-12-31  2312840000  1848.359985\n",
       "2014-12-31  2606070000  2058.899902\n",
       "2015-12-31  2655330000  2043.939941\n",
       "2016-12-31  2670900000  2238.830078"
      ]
     },
     "execution_count": 17,
     "metadata": {},
     "output_type": "execute_result"
    }
   ],
   "source": [
    "#Transforming Daily Data to Annual Data\n",
    "SnP500_Adata = SnP500_Ddata.resample('A').last()\n",
    "SnP500_Adata[['Volume','Adj Close']].tail()"
   ]
  },
  {
   "cell_type": "code",
   "execution_count": 127,
   "metadata": {
    "collapsed": false
   },
   "outputs": [
    {
     "name": "stdout",
     "output_type": "stream",
     "text": [
      "Date\n",
      "1982-12-31    0.147613\n",
      "1983-12-31    0.172710\n",
      "1984-12-31    0.014006\n",
      "1985-12-31    0.263334\n",
      "1986-12-31    0.146204\n",
      "1987-12-31    0.020275\n",
      "1988-12-31    0.124008\n",
      "1989-12-31    0.272505\n",
      "1990-12-31   -0.065591\n",
      "1991-12-31    0.263067\n",
      "1992-12-31    0.044643\n",
      "1993-12-31    0.070552\n",
      "1994-12-31   -0.015393\n",
      "1995-12-31    0.341107\n",
      "1996-12-31    0.202637\n",
      "1997-12-31    0.310082\n",
      "1998-12-31    0.266686\n",
      "1999-12-31    0.195260\n",
      "2000-12-31   -0.101392\n",
      "2001-12-31   -0.130427\n",
      "2002-12-31   -0.233660\n",
      "2003-12-31    0.263804\n",
      "2004-12-31    0.089935\n",
      "2005-12-31    0.030010\n",
      "2006-12-31    0.136194\n",
      "2007-12-31    0.035296\n",
      "2008-12-31   -0.384858\n",
      "2009-12-31    0.234542\n",
      "2010-12-31    0.127827\n",
      "2011-12-31   -0.000032\n",
      "2012-12-31    0.134057\n",
      "2013-12-31    0.296012\n",
      "2014-12-31    0.113906\n",
      "2015-12-31   -0.007266\n",
      "2016-12-31    0.095350\n",
      "Freq: A-DEC, Name: returns, dtype: float64\n"
     ]
    }
   ],
   "source": [
    "#Caculating the Return of S&P 500 Index\n",
    "SnP500_Adata[['Adj Close']] = SnP500_Adata[['Adj Close']].apply(pd.to_numeric, errors='ignore')\n",
    "SnP500_Adata['returns'] = SnP500_Adata['Adj Close'] / SnP500_Adata['Adj Close'].shift(1) -1\n",
    "SnP500_Adata = SnP500_Adata.dropna()\n",
    "print SnP500_Adata['returns']"
   ]
  },
  {
   "cell_type": "code",
   "execution_count": 19,
   "metadata": {
    "collapsed": false
   },
   "outputs": [
    {
     "name": "stdout",
     "output_type": "stream",
     "text": [
      "S&P 500 average return = 9.13031%, st. dev  = 15.8073%\n"
     ]
    }
   ],
   "source": [
    "#Computing average annual return and standard deviation of return for S&P 500 index: (Price1-Price0)/Price0;\n",
    "\n",
    "SnP500_mean_ret = float(SnP500_Adata[['returns']].mean())\n",
    "SnP500_std_ret = float(SnP500_Adata[['returns']].std())\n",
    "print (\"S&P 500 average return = %g%%, st. dev  = %g%%\") % (100*SnP500_mean_ret, 100*SnP500_std_ret)\n"
   ]
  },
  {
   "cell_type": "markdown",
   "metadata": {},
   "source": [
    "# Scenario 1: Invest \\$5000 in the US stock market for 1 year: $PV_0 = 5000$"
   ]
  },
  {
   "cell_type": "code",
   "execution_count": 20,
   "metadata": {
    "collapsed": true
   },
   "outputs": [],
   "source": [
    "# In our example we assume that the return of the market over the next year follow Normal distribution.\n",
    "# Between 1977 and 2014, S&P 500 returned 9.38% per year on average with a standard deviation of 16.15%.\n",
    "# We want to generate 100 scenarios for the market return over the next year i.e.\n",
    "# By drawing 100 random numbers from a Normal Distribution with mean 9.38% and standard deviation of 16.15%):\n"
   ]
  },
  {
   "cell_type": "code",
   "execution_count": 21,
   "metadata": {
    "collapsed": false
   },
   "outputs": [
    {
     "data": {
      "text/plain": [
       "array([  1.41522188e-01,   1.30828197e-01,   2.91323641e-02,\n",
       "        -1.69250066e-01,  -8.56954954e-02,   2.69709687e-02,\n",
       "         1.28345573e-01,  -1.01820081e-01,   1.19314889e-01,\n",
       "         2.16892735e-02,  -9.22931886e-02,   1.27263405e-01,\n",
       "        -1.70491056e-02,   7.60390093e-02,  -5.65077037e-02,\n",
       "         2.26999834e-01,  -8.64049119e-03,  -4.05093029e-02,\n",
       "        -5.83326684e-02,   6.02685367e-03,   2.21904331e-01,\n",
       "         1.41672951e-01,  -2.33460634e-04,   2.67422495e-02,\n",
       "         1.20604509e-01,  -4.03414248e-02,   4.32371910e-01,\n",
       "         1.28552609e-01,   2.09134886e-01,   1.03353673e-01,\n",
       "        -5.50990933e-02,   1.52800780e-01,   3.41950387e-01,\n",
       "        -4.07528082e-02,   8.56190025e-02,  -1.31541835e-01,\n",
       "        -6.66465839e-02,   1.14556517e-01,   2.01834768e-02,\n",
       "        -4.56813153e-03,   7.94691250e-02,  -3.60597058e-02,\n",
       "         5.03666563e-02,  -4.36532450e-02,   1.23582996e-01,\n",
       "        -5.12382306e-02,   5.69743818e-02,  -1.52216116e-01,\n",
       "         5.41570665e-02,   1.51983354e-01,   9.63876536e-02,\n",
       "        -1.60118605e-01,   5.15751353e-01,  -1.50811437e-01,\n",
       "         4.56841240e-02,  -8.41783129e-02,   2.35052053e-01,\n",
       "        -1.39181308e-01,   2.20940671e-01,   2.39187784e-01,\n",
       "        -1.03110686e-01,  -1.52032426e-01,   2.77364674e-01,\n",
       "        -2.35977201e-01,   8.23378326e-02,  -5.32403112e-02,\n",
       "         1.63571317e-01,  -5.87379914e-02,   1.47984119e-01,\n",
       "         2.45775215e-01,  -1.11650828e-01,   2.88914583e-01,\n",
       "         6.48200567e-03,   1.50198354e-01,  -5.53991962e-02,\n",
       "         2.96696222e-02,   1.39542772e-01,   1.33102885e-01,\n",
       "         2.03273345e-01,  -1.02396143e-01,  -3.41581059e-02,\n",
       "        -1.14514398e-01,   2.23860550e-02,   2.32201356e-01,\n",
       "         4.06434731e-02,   3.01899409e-01,   2.64773171e-01,\n",
       "         1.22465552e-01,  -6.87439576e-03,   1.06623755e-01,\n",
       "         2.52884527e-01,   3.80381122e-01,   1.41546521e-01,\n",
       "        -8.39790645e-02,   3.90585948e-01,   7.14112279e-03,\n",
       "        -1.40387522e-01,   2.99888410e-02,  -7.26253450e-02,\n",
       "        -4.10028528e-02])"
      ]
     },
     "execution_count": 21,
     "metadata": {},
     "output_type": "execute_result"
    }
   ],
   "source": [
    "Ns = 100 # Number of scenarios\n",
    "r01 = random.normal(SnP500_mean_ret, SnP500_std_ret, Ns)\n",
    "r01"
   ]
  },
  {
   "cell_type": "code",
   "execution_count": 22,
   "metadata": {
    "collapsed": false
   },
   "outputs": [
    {
     "data": {
      "text/plain": [
       "array([ 5707.61093997,  5654.14098742,  5145.6618204 ,  4153.74966782,\n",
       "        4571.52252314,  5134.85484364,  5641.7278643 ,  4490.89959554,\n",
       "        5596.57444514,  5108.44636747,  4538.53405716,  5636.31702337,\n",
       "        4914.75447191,  5380.19504634,  4717.46148127,  6134.9991708 ,\n",
       "        4956.79754403,  4797.45348562,  4708.33665799,  5030.13426837,\n",
       "        6109.52165392,  5708.36475443,  4998.83269683,  5133.71124753,\n",
       "        5603.02254475,  4798.29287595,  7161.85954866,  5642.7630426 ,\n",
       "        6045.67443078,  5516.76836627,  4724.50453354,  5764.00389767,\n",
       "        6709.75193305,  4796.23595913,  5428.09501261,  4342.29082323,\n",
       "        4666.76708073,  5572.78258267,  5100.91738386,  4977.15934233,\n",
       "        5397.34562484,  4819.70147081,  5251.83328148,  4781.73377519,\n",
       "        5617.91497842,  4743.80884714,  5284.87190899,  4238.91942083,\n",
       "        5270.78533254,  5759.91677109,  5481.93826801,  4199.40697265,\n",
       "        7578.75676478,  4245.94281588,  5228.42062005,  4579.10843567,\n",
       "        6175.260264  ,  4304.09345919,  6104.70335419,  6195.9389186 ,\n",
       "        4484.44656841,  4239.83787209,  6386.82336942,  3820.11399567,\n",
       "        5411.68916295,  4733.79844421,  5817.85658297,  4706.31004281,\n",
       "        5739.92059354,  6228.87607443,  4441.74586135,  6444.57291518,\n",
       "        5032.41002836,  5750.99177131,  4723.00401909,  5148.34811117,\n",
       "        5697.71386144,  5665.51442334,  6016.36672395,  4488.01928559,\n",
       "        4829.20947048,  4427.42801065,  5111.93027486,  6161.0067811 ,\n",
       "        5203.21736536,  6509.49704394,  6323.86585564,  5612.32776176,\n",
       "        4965.62802119,  5533.11877544,  6264.42263414,  6901.90561222,\n",
       "        5707.73260594,  4580.10467764,  6952.92974085,  5035.70561393,\n",
       "        4298.06239215,  5149.94420489,  4636.87327506,  4794.98573589])"
      ]
     },
     "execution_count": 22,
     "metadata": {},
     "output_type": "execute_result"
    }
   ],
   "source": [
    "pv0 = 5000 # Initial capital\n",
    "\n",
    "# Distribution of Value of investment at the end of year 1:\n",
    "v1 = (r01 + 1) * pv0\n",
    "v1"
   ]
  },
  {
   "cell_type": "code",
   "execution_count": 23,
   "metadata": {
    "collapsed": false
   },
   "outputs": [
    {
     "data": {
      "text/plain": [
       "(5300.6014881697229,\n",
       " 3820.1139956745183,\n",
       " 7578.7567647770211,\n",
       " 732.62288357835507)"
      ]
     },
     "execution_count": 23,
     "metadata": {},
     "output_type": "execute_result"
    }
   ],
   "source": [
    "mean(v1), min(v1), max(v1), std(v1)"
   ]
  },
  {
   "cell_type": "code",
   "execution_count": 24,
   "metadata": {
    "collapsed": false
   },
   "outputs": [
    {
     "data": {
      "text/plain": [
       "array([ 4245.63756869,  5176.58078512,  6519.50978839])"
      ]
     },
     "execution_count": 24,
     "metadata": {},
     "output_type": "execute_result"
    }
   ],
   "source": [
    "percentile(v1, [5, 50,95])"
   ]
  },
  {
   "cell_type": "code",
   "execution_count": 25,
   "metadata": {
    "collapsed": true
   },
   "outputs": [],
   "source": [
    "#Are we willing to risk a 5% chance of ending up with a stock worth less than $3820, in order to chase \n",
    "#an expected return of around 9%, giving us an expected stock price of around $5300?”"
   ]
  },
  {
   "cell_type": "code",
   "execution_count": 26,
   "metadata": {
    "collapsed": false
   },
   "outputs": [
    {
     "data": {
      "image/png": "[encoded data removed]",
      "text/plain": [
       "<matplotlib.figure.Figure at 0x10eb8278>"
      ]
     },
     "metadata": {},
     "output_type": "display_data"
    }
   ],
   "source": [
    "hist, bins = histogram(v1)\n",
    "positions = (bins[:-1] + bins[1:]) / 2\n",
    "plt.bar(positions, hist, width=200)\n",
    "plt.xlabel('portfolio value after 1 year')\n",
    "plt.ylabel('frequency')\n",
    "plt.show()"
   ]
  },
  {
   "cell_type": "code",
   "execution_count": 27,
   "metadata": {
    "collapsed": false
   },
   "outputs": [
    {
     "data": {
      "image/png": "[encoded data removed]",
      "text/plain": [
       "<matplotlib.figure.Figure at 0x10f64978>"
      ]
     },
     "metadata": {},
     "output_type": "display_data"
    }
   ],
   "source": [
    "# Plot simulated paths over time (Only invested for a year of return)\n",
    "for res in v1:\n",
    "    plt.plot((0,1), (pv0, res))\n",
    "plt.xlabel('One year holding/investment period')\n",
    "plt.ylabel('portfolio value')\n",
    "plt.show()"
   ]
  },
  {
   "cell_type": "markdown",
   "metadata": {},
   "source": [
    "# Scenario 2: Invest $5000 in the US stock market for 30 years: v0=5000"
   ]
  },
  {
   "cell_type": "code",
   "execution_count": 28,
   "metadata": {
    "collapsed": true
   },
   "outputs": [],
   "source": [
    "# Let's invest in the market for the next 30 years (instead of only the next one year as in Scenario 1).\n",
    "\n",
    "# We assume that every year our investment returns from investing into the S&P 500 will follow a Normal distribution with the mean and standard deviation as in the above example.\n",
    "\n",
    "# the initial capital of \\$5000"
   ]
  },
  {
   "cell_type": "code",
   "execution_count": 29,
   "metadata": {
    "collapsed": false
   },
   "outputs": [
    {
     "data": {
      "text/plain": [
       "array([[ 0.01277507, -0.17514907, -0.01215164, ...,  0.11689281,\n",
       "         0.06733209, -0.03051366],\n",
       "       [-0.13290895,  0.19923194,  0.15888159, ...,  0.12472944,\n",
       "         0.02667457,  0.19580535],\n",
       "       [ 0.32369827,  0.24176205,  0.10215667, ...,  0.28049053,\n",
       "         0.41930454,  0.22785633],\n",
       "       ..., \n",
       "       [-0.18276607,  0.17322412,  0.17587544, ...,  0.13406477,\n",
       "        -0.13119033, -0.06845624],\n",
       "       [ 0.03953667, -0.00998883,  0.08808964, ...,  0.07626179,\n",
       "        -0.13721118,  0.08161584],\n",
       "       [-0.21762957, -0.10747231,  0.16465765, ..., -0.05655194,\n",
       "         0.04008497,  0.09795276]])"
      ]
     },
     "execution_count": 29,
     "metadata": {},
     "output_type": "execute_result"
    }
   ],
   "source": [
    "pv0 = 5000 # Initial capital\n",
    "r_speriod30  = random.normal(SnP500_mean_ret, SnP500_std_ret, (Ns, 30))\n",
    "r_speriod30"
   ]
  },
  {
   "cell_type": "code",
   "execution_count": 32,
   "metadata": {
    "collapsed": false
   },
   "outputs": [
    {
     "data": {
      "image/png": "[encoded data removed]",
      "text/plain": [
       "<matplotlib.figure.Figure at 0xe028c18>"
      ]
     },
     "metadata": {},
     "output_type": "display_data"
    }
   ],
   "source": [
    "v30 = prod(1 + r_speriod30 , 1) * pv0\n",
    "\n",
    "hist, bins = histogram(v30)\n",
    "positions = (bins[:-1] + bins[1:]) / 2\n",
    "width = (bins[1] - bins[0]) * 0.8\n",
    "plt.bar(positions, hist, width=width)\n",
    "plt.xlabel('portfolio value after 30 years')\n",
    "plt.ylabel('frequency')\n",
    "plt.show()"
   ]
  },
  {
   "cell_type": "code",
   "execution_count": 33,
   "metadata": {
    "collapsed": false
   },
   "outputs": [
    {
     "data": {
      "image/png": "[encoded data removed]",
      "text/plain": [
       "<matplotlib.figure.Figure at 0x10783438>"
      ]
     },
     "metadata": {},
     "output_type": "display_data"
    }
   ],
   "source": [
    "for scenario in r_speriod30:\n",
    "    y = [prod(1 + scenario[0:i]) * pv0 for i in range(0,31)]\n",
    "    plt.plot(range(0,31), y)\n",
    "plt.xlabel('30 years holding/investment period')\n",
    "plt.ylabel('portfolio value')\n",
    "plt.show()"
   ]
  },
  {
   "cell_type": "code",
   "execution_count": 267,
   "metadata": {
    "collapsed": false
   },
   "outputs": [
    {
     "data": {
      "text/plain": [
       "(43886.034446588048,\n",
       " 9252.2646769823496,\n",
       " 367165.88066754304,\n",
       " 32060.832383623692)"
      ]
     },
     "execution_count": 267,
     "metadata": {},
     "output_type": "execute_result"
    }
   ],
   "source": [
    "mean(v30), min(v30), max(v30), std(v30)"
   ]
  },
  {
   "cell_type": "code",
   "execution_count": 266,
   "metadata": {
    "collapsed": false
   },
   "outputs": [
    {
     "data": {
      "text/plain": [
       "array([  15420.34781784,   34709.15778442,  105697.23290659])"
      ]
     },
     "execution_count": 266,
     "metadata": {},
     "output_type": "execute_result"
    }
   ],
   "source": [
    "percentile(v30, [5, 50,95])"
   ]
  },
  {
   "cell_type": "markdown",
   "metadata": {},
   "source": [
    "# Scenario 3: Invest $5000 in the US Treasury Bills for 30 years: v0=5000"
   ]
  },
  {
   "cell_type": "code",
   "execution_count": 34,
   "metadata": {
    "collapsed": false
   },
   "outputs": [
    {
     "data": {
      "text/html": [
       "<div>\n",
       "<table border=\"1\" class=\"dataframe\">\n",
       "  <thead>\n",
       "    <tr style=\"text-align: right;\">\n",
       "      <th></th>\n",
       "      <th>DTB3</th>\n",
       "    </tr>\n",
       "    <tr>\n",
       "      <th>DATE</th>\n",
       "      <th></th>\n",
       "    </tr>\n",
       "  </thead>\n",
       "  <tbody>\n",
       "    <tr>\n",
       "      <th>1977-01-03</th>\n",
       "      <td>4.39</td>\n",
       "    </tr>\n",
       "    <tr>\n",
       "      <th>1977-01-04</th>\n",
       "      <td>4.49</td>\n",
       "    </tr>\n",
       "    <tr>\n",
       "      <th>1977-01-05</th>\n",
       "      <td>4.47</td>\n",
       "    </tr>\n",
       "    <tr>\n",
       "      <th>1977-01-06</th>\n",
       "      <td>4.50</td>\n",
       "    </tr>\n",
       "    <tr>\n",
       "      <th>1977-01-07</th>\n",
       "      <td>4.62</td>\n",
       "    </tr>\n",
       "  </tbody>\n",
       "</table>\n",
       "</div>"
      ],
      "text/plain": [
       "            DTB3\n",
       "DATE            \n",
       "1977-01-03  4.39\n",
       "1977-01-04  4.49\n",
       "1977-01-05  4.47\n",
       "1977-01-06  4.50\n",
       "1977-01-07  4.62"
      ]
     },
     "execution_count": 34,
     "metadata": {},
     "output_type": "execute_result"
    }
   ],
   "source": [
    "# Downloading 3-month T-bill rates from Federal Reserve\n",
    "start_date_b = datetime.date(1977,1,1)\n",
    "end_date_b = datetime.date(2017,1,1)\n",
    "TBill_Ddata = data.DataReader('DTB3','fred',start_date_b,end_date_b)\n",
    "TBill_Ddata.head()"
   ]
  },
  {
   "cell_type": "code",
   "execution_count": 35,
   "metadata": {
    "collapsed": false
   },
   "outputs": [
    {
     "data": {
      "text/html": [
       "<div>\n",
       "<table border=\"1\" class=\"dataframe\">\n",
       "  <thead>\n",
       "    <tr style=\"text-align: right;\">\n",
       "      <th></th>\n",
       "      <th>DTB3</th>\n",
       "    </tr>\n",
       "    <tr>\n",
       "      <th>DATE</th>\n",
       "      <th></th>\n",
       "    </tr>\n",
       "  </thead>\n",
       "  <tbody>\n",
       "    <tr>\n",
       "      <th>2012-12-31</th>\n",
       "      <td>0.05</td>\n",
       "    </tr>\n",
       "    <tr>\n",
       "      <th>2013-12-31</th>\n",
       "      <td>0.07</td>\n",
       "    </tr>\n",
       "    <tr>\n",
       "      <th>2014-12-31</th>\n",
       "      <td>0.04</td>\n",
       "    </tr>\n",
       "    <tr>\n",
       "      <th>2015-12-31</th>\n",
       "      <td>0.16</td>\n",
       "    </tr>\n",
       "    <tr>\n",
       "      <th>2016-12-31</th>\n",
       "      <td>0.50</td>\n",
       "    </tr>\n",
       "  </tbody>\n",
       "</table>\n",
       "</div>"
      ],
      "text/plain": [
       "            DTB3\n",
       "DATE            \n",
       "2012-12-31  0.05\n",
       "2013-12-31  0.07\n",
       "2014-12-31  0.04\n",
       "2015-12-31  0.16\n",
       "2016-12-31  0.50"
      ]
     },
     "execution_count": 35,
     "metadata": {},
     "output_type": "execute_result"
    }
   ],
   "source": [
    "# Creating a time-series of annual data points from daily data\n",
    "TBill_Adata = TBill_Ddata.resample('A').last()\n",
    "TBill_Adata[['DTB3']].tail()"
   ]
  },
  {
   "cell_type": "code",
   "execution_count": 36,
   "metadata": {
    "collapsed": false
   },
   "outputs": [
    {
     "name": "stdout",
     "output_type": "stream",
     "text": [
      "DATE\n",
      "1977-12-31    0.0613\n",
      "1978-12-31    0.0926\n",
      "1979-12-31    0.1204\n",
      "1980-12-31    0.1430\n",
      "1981-12-31    0.1108\n",
      "1982-12-31    0.0792\n",
      "1983-12-31    0.0897\n",
      "1984-12-31    0.0785\n",
      "1985-12-31    0.0705\n",
      "1986-12-31    0.0567\n",
      "1987-12-31    0.0568\n",
      "1988-12-31    0.0810\n",
      "1989-12-31    0.0755\n",
      "1990-12-31    0.0644\n",
      "1991-12-31    0.0388\n",
      "1992-12-31    0.0308\n",
      "1993-12-31    0.0301\n",
      "1994-12-31    0.0553\n",
      "1995-12-31    0.0496\n",
      "1996-12-31    0.0507\n",
      "1997-12-31    0.0522\n",
      "1998-12-31    0.0437\n",
      "1999-12-31    0.0517\n",
      "2000-12-31    0.0573\n",
      "2001-12-31    0.0171\n",
      "2002-12-31    0.0120\n",
      "2003-12-31    0.0093\n",
      "2004-12-31    0.0218\n",
      "2005-12-31    0.0399\n",
      "2006-12-31    0.0489\n",
      "2007-12-31    0.0329\n",
      "2008-12-31    0.0011\n",
      "2009-12-31    0.0006\n",
      "2010-12-31    0.0012\n",
      "2011-12-31    0.0002\n",
      "2012-12-31    0.0005\n",
      "2013-12-31    0.0007\n",
      "2014-12-31    0.0004\n",
      "2015-12-31    0.0016\n",
      "2016-12-31    0.0050\n",
      "Freq: A-DEC, Name: returns, dtype: float64\n"
     ]
    }
   ],
   "source": [
    "#Computing annual return for bonds:\n",
    "TBill_Adata['returns'] = TBill_Adata['DTB3'] / 100\n",
    "TBill_Adata = TBill_Adata.dropna()\n",
    "print TBill_Adata['returns']"
   ]
  },
  {
   "cell_type": "code",
   "execution_count": 37,
   "metadata": {
    "collapsed": false
   },
   "outputs": [
    {
     "name": "stdout",
     "output_type": "stream",
     "text": [
      "T-bill average return = 4.5845%, st. dev  = 3.64866%\n"
     ]
    }
   ],
   "source": [
    "# Computing average annual return and standard deviation of return for bonds:\n",
    "TBill_mean_ret = float(TBill_Adata[['returns']].mean())\n",
    "TBill_std_ret = float(TBill_Adata[['returns']].std())\n",
    "print (\"T-bill average return = %g%%, st. dev  = %g%%\") % (100*TBill_mean_ret, 100*TBill_std_ret)"
   ]
  },
  {
   "cell_type": "code",
   "execution_count": 268,
   "metadata": {
    "collapsed": false
   },
   "outputs": [
    {
     "data": {
      "text/plain": [
       "array([ 0.000495,  0.04925 ,  0.11128 ])"
      ]
     },
     "execution_count": 268,
     "metadata": {},
     "output_type": "execute_result"
    }
   ],
   "source": [
    "percentile(TBill_Adata[['returns']], [5, 50,95])"
   ]
  },
  {
   "cell_type": "markdown",
   "metadata": {},
   "source": [
    "# Scenario 3: Make a x% Stocks - y% T-Bills Portfolio"
   ]
  },
  {
   "cell_type": "code",
   "execution_count": 38,
   "metadata": {
    "collapsed": false
   },
   "outputs": [
    {
     "data": {
      "text/plain": [
       "array([[ 0.024987  ,  0.00080272],\n",
       "       [ 0.00080272,  0.00133127]])"
      ]
     },
     "execution_count": 38,
     "metadata": {},
     "output_type": "execute_result"
    }
   ],
   "source": [
    "#Computing Covariance matrix:\n",
    "covMat = cov(array(SnP500_Adata[['returns']]),array(TBill_Adata[['returns']]),rowvar=0)\n",
    "covMat"
   ]
  },
  {
   "cell_type": "code",
   "execution_count": 39,
   "metadata": {
    "collapsed": true
   },
   "outputs": [],
   "source": [
    "#Simulating the two-assets Portfolio for 5000 Scenarios: 50-50 Weights in Stocks & Government T-Bills\n",
    "\n",
    "v0 = 5000 # Initial capital\n",
    "Ns = 2000 # Number of scenarios"
   ]
  },
  {
   "cell_type": "code",
   "execution_count": 40,
   "metadata": {
    "collapsed": false
   },
   "outputs": [
    {
     "data": {
      "text/plain": [
       "[0.09130311413356888, 0.04584499999999999]"
      ]
     },
     "execution_count": 40,
     "metadata": {},
     "output_type": "execute_result"
    }
   ],
   "source": [
    "Port_Return2Assets= [SnP500_mean_ret, TBill_mean_ret] # Expected return\n",
    "Port_Return2Assets"
   ]
  },
  {
   "cell_type": "code",
   "execution_count": 41,
   "metadata": {
    "collapsed": true
   },
   "outputs": [],
   "source": [
    "stockRet = ones(Ns)\n",
    "bondsRet = ones(Ns)"
   ]
  },
  {
   "cell_type": "code",
   "execution_count": 42,
   "metadata": {
    "collapsed": true
   },
   "outputs": [],
   "source": [
    "scenarios = random.multivariate_normal(Port_Return2Assets, covMat, Ns)\n",
    "for year in range(1, 31):\n",
    "    scenarios = random.multivariate_normal(Port_Return2Assets, covMat, Ns)\n",
    "    stockRet *= (1 + scenarios[:,0])\n",
    "    bondsRet *= (1 + scenarios[:,1])"
   ]
  },
  {
   "cell_type": "code",
   "execution_count": 43,
   "metadata": {
    "collapsed": true
   },
   "outputs": [],
   "source": [
    "v30 = 0.5 * v0 * stockRet + 0.5 * v0 * bondsRet"
   ]
  },
  {
   "cell_type": "code",
   "execution_count": 44,
   "metadata": {
    "collapsed": false
   },
   "outputs": [
    {
     "data": {
      "image/png": "[encoded data removed]",
      "text/plain": [
       "<matplotlib.figure.Figure at 0x1063b4e0>"
      ]
     },
     "metadata": {},
     "output_type": "display_data"
    }
   ],
   "source": [
    "hist, bins = histogram(v30, bins = 100)\n",
    "positions = (bins[:-1] + bins[1:]) / 2\n",
    "width = (bins[1] - bins[0]) * 0.8\n",
    "plt.bar(positions, hist, width=width)\n",
    "plt.xlabel('Portfolio Value after 30 Years')\n",
    "plt.ylabel('frequency')\n",
    "plt.show()"
   ]
  },
  {
   "cell_type": "code",
   "execution_count": 45,
   "metadata": {
    "collapsed": false
   },
   "outputs": [],
   "source": [
    "# Compute portfolio returns by iterating through different combinations of weights\n",
    "v30comp = []\n",
    "for w in arange(0.2, 1.01, 0.2):\n",
    "    v30comp += [w * pv0 * stockRet + (1 - w) * pv0 * bondsRet]\n",
    "#    v30comp[0]=20% Stock & 80% T-Bills -- Strategy 1\n",
    "#    v30comp[1]=40% Stock & 60% T-Bills -- Strategy 2\n",
    "#    v30comp[2]=60% Stock & 40% T-Bills -- Strategy 3\n",
    "#    v30comp[3]=80% Stock & 20% T-Bills -- Strategy 4"
   ]
  },
  {
   "cell_type": "code",
   "execution_count": 46,
   "metadata": {
    "collapsed": false
   },
   "outputs": [],
   "source": [
    "# Find the differences in outcomes for v30\n",
    "# (e.g.: Stratery 4 - Strategy 1)\n",
    "v30d = v30comp[3] - v30comp[0]"
   ]
  },
  {
   "cell_type": "code",
   "execution_count": 262,
   "metadata": {
    "collapsed": false
   },
   "outputs": [
    {
     "name": "stdout",
     "output_type": "stream",
     "text": [
      "Strategy 4 was better in 1752 cases \n",
      "Strategy 1 was better in 248 cases\n",
      "Difference = 1504\n"
     ]
    }
   ],
   "source": [
    "# Deriving number of elements in v30d that are > 0 and < 0 and compare\n",
    "\n",
    "pos_count = (v30d > 0).sum()\n",
    "neg_count = (v30d <= 0).sum()\n",
    "\n",
    "print u\"\"\"Strategy 4 was better in %d cases \n",
    "Strategy 1 was better in %d cases\n",
    "Difference = %d\"\"\" % (pos_count, neg_count, pos_count - neg_count)"
   ]
  },
  {
   "cell_type": "code",
   "execution_count": 50,
   "metadata": {
    "collapsed": false
   },
   "outputs": [
    {
     "data": {
      "text/plain": [
       "<matplotlib.text.Text at 0x104fd550>"
      ]
     },
     "execution_count": 50,
     "metadata": {},
     "output_type": "execute_result"
    },
    {
     "data": {
      "image/png": "[encoded data removed]",
      "text/plain": [
       "<matplotlib.figure.Figure at 0xe0179e8>"
      ]
     },
     "metadata": {},
     "output_type": "display_data"
    }
   ],
   "source": [
    "plt.figure(figsize=(8,4),dpi=100)\n",
    "plt.scatter(stockRet,bondsRet)\n",
    "plt.xlabel('Time')\n",
    "plt.ylabel('Returns')"
   ]
  },
  {
   "cell_type": "code",
   "execution_count": 72,
   "metadata": {
    "collapsed": false
   },
   "outputs": [
    {
     "data": {
      "text/plain": [
       "<matplotlib.collections.PathCollection at 0x11358278>"
      ]
     },
     "execution_count": 72,
     "metadata": {},
     "output_type": "execute_result"
    },
    {
     "data": {
      "image/png": "[encoded data removed]",
      "text/plain": [
       "<matplotlib.figure.Figure at 0x114006a0>"
      ]
     },
     "metadata": {},
     "output_type": "display_data"
    }
   ],
   "source": [
    "plt.figure(figsize=(8,4),dpi=100)\n",
    "plt.scatter(v30,bondsRet)\n",
    "plt.scatter(v30,stockRet)"
   ]
  },
  {
   "cell_type": "markdown",
   "metadata": {},
   "source": [
    "# Include Physical Gold in the Portfolio instead of T-Bills?"
   ]
  },
  {
   "cell_type": "code",
   "execution_count": 110,
   "metadata": {
    "collapsed": false
   },
   "outputs": [
    {
     "data": {
      "text/html": [
       "<div>\n",
       "<table border=\"1\" class=\"dataframe\">\n",
       "  <thead>\n",
       "    <tr style=\"text-align: right;\">\n",
       "      <th></th>\n",
       "      <th>Date</th>\n",
       "      <th>USD</th>\n",
       "    </tr>\n",
       "  </thead>\n",
       "  <tbody>\n",
       "    <tr>\n",
       "      <th>0</th>\n",
       "      <td>1978</td>\n",
       "      <td>226.00</td>\n",
       "    </tr>\n",
       "    <tr>\n",
       "      <th>1</th>\n",
       "      <td>1979</td>\n",
       "      <td>512.00</td>\n",
       "    </tr>\n",
       "    <tr>\n",
       "      <th>2</th>\n",
       "      <td>1980</td>\n",
       "      <td>589.75</td>\n",
       "    </tr>\n",
       "    <tr>\n",
       "      <th>3</th>\n",
       "      <td>1981</td>\n",
       "      <td>397.50</td>\n",
       "    </tr>\n",
       "    <tr>\n",
       "      <th>4</th>\n",
       "      <td>1982</td>\n",
       "      <td>456.90</td>\n",
       "    </tr>\n",
       "    <tr>\n",
       "      <th>5</th>\n",
       "      <td>1983</td>\n",
       "      <td>382.40</td>\n",
       "    </tr>\n",
       "    <tr>\n",
       "      <th>6</th>\n",
       "      <td>1984</td>\n",
       "      <td>308.30</td>\n",
       "    </tr>\n",
       "    <tr>\n",
       "      <th>7</th>\n",
       "      <td>1985</td>\n",
       "      <td>326.80</td>\n",
       "    </tr>\n",
       "    <tr>\n",
       "      <th>8</th>\n",
       "      <td>1986</td>\n",
       "      <td>388.75</td>\n",
       "    </tr>\n",
       "    <tr>\n",
       "      <th>9</th>\n",
       "      <td>1987</td>\n",
       "      <td>484.10</td>\n",
       "    </tr>\n",
       "    <tr>\n",
       "      <th>10</th>\n",
       "      <td>1988</td>\n",
       "      <td>410.25</td>\n",
       "    </tr>\n",
       "    <tr>\n",
       "      <th>11</th>\n",
       "      <td>1989</td>\n",
       "      <td>398.60</td>\n",
       "    </tr>\n",
       "    <tr>\n",
       "      <th>12</th>\n",
       "      <td>1990</td>\n",
       "      <td>386.20</td>\n",
       "    </tr>\n",
       "    <tr>\n",
       "      <th>13</th>\n",
       "      <td>1991</td>\n",
       "      <td>353.15</td>\n",
       "    </tr>\n",
       "    <tr>\n",
       "      <th>14</th>\n",
       "      <td>1992</td>\n",
       "      <td>332.90</td>\n",
       "    </tr>\n",
       "    <tr>\n",
       "      <th>15</th>\n",
       "      <td>1993</td>\n",
       "      <td>391.75</td>\n",
       "    </tr>\n",
       "    <tr>\n",
       "      <th>16</th>\n",
       "      <td>1994</td>\n",
       "      <td>383.25</td>\n",
       "    </tr>\n",
       "    <tr>\n",
       "      <th>17</th>\n",
       "      <td>1995</td>\n",
       "      <td>387.00</td>\n",
       "    </tr>\n",
       "    <tr>\n",
       "      <th>18</th>\n",
       "      <td>1996</td>\n",
       "      <td>369.25</td>\n",
       "    </tr>\n",
       "    <tr>\n",
       "      <th>19</th>\n",
       "      <td>1997</td>\n",
       "      <td>290.20</td>\n",
       "    </tr>\n",
       "    <tr>\n",
       "      <th>20</th>\n",
       "      <td>1998</td>\n",
       "      <td>287.80</td>\n",
       "    </tr>\n",
       "    <tr>\n",
       "      <th>21</th>\n",
       "      <td>1999</td>\n",
       "      <td>290.25</td>\n",
       "    </tr>\n",
       "    <tr>\n",
       "      <th>22</th>\n",
       "      <td>2000</td>\n",
       "      <td>274.45</td>\n",
       "    </tr>\n",
       "    <tr>\n",
       "      <th>23</th>\n",
       "      <td>2001</td>\n",
       "      <td>276.50</td>\n",
       "    </tr>\n",
       "    <tr>\n",
       "      <th>24</th>\n",
       "      <td>2002</td>\n",
       "      <td>347.20</td>\n",
       "    </tr>\n",
       "    <tr>\n",
       "      <th>25</th>\n",
       "      <td>2003</td>\n",
       "      <td>416.25</td>\n",
       "    </tr>\n",
       "    <tr>\n",
       "      <th>26</th>\n",
       "      <td>2004</td>\n",
       "      <td>435.60</td>\n",
       "    </tr>\n",
       "    <tr>\n",
       "      <th>27</th>\n",
       "      <td>2005</td>\n",
       "      <td>513.00</td>\n",
       "    </tr>\n",
       "    <tr>\n",
       "      <th>28</th>\n",
       "      <td>2006</td>\n",
       "      <td>632.00</td>\n",
       "    </tr>\n",
       "    <tr>\n",
       "      <th>29</th>\n",
       "      <td>2007</td>\n",
       "      <td>833.75</td>\n",
       "    </tr>\n",
       "    <tr>\n",
       "      <th>30</th>\n",
       "      <td>2008</td>\n",
       "      <td>869.75</td>\n",
       "    </tr>\n",
       "    <tr>\n",
       "      <th>31</th>\n",
       "      <td>2009</td>\n",
       "      <td>1087.50</td>\n",
       "    </tr>\n",
       "    <tr>\n",
       "      <th>32</th>\n",
       "      <td>2010</td>\n",
       "      <td>1405.50</td>\n",
       "    </tr>\n",
       "    <tr>\n",
       "      <th>33</th>\n",
       "      <td>2011</td>\n",
       "      <td>1531.00</td>\n",
       "    </tr>\n",
       "    <tr>\n",
       "      <th>34</th>\n",
       "      <td>2012</td>\n",
       "      <td>1657.50</td>\n",
       "    </tr>\n",
       "    <tr>\n",
       "      <th>35</th>\n",
       "      <td>2013</td>\n",
       "      <td>1204.50</td>\n",
       "    </tr>\n",
       "    <tr>\n",
       "      <th>36</th>\n",
       "      <td>2014</td>\n",
       "      <td>1206.00</td>\n",
       "    </tr>\n",
       "    <tr>\n",
       "      <th>37</th>\n",
       "      <td>2015</td>\n",
       "      <td>1060.00</td>\n",
       "    </tr>\n",
       "    <tr>\n",
       "      <th>38</th>\n",
       "      <td>2016</td>\n",
       "      <td>1145.90</td>\n",
       "    </tr>\n",
       "    <tr>\n",
       "      <th>39</th>\n",
       "      <td>2017</td>\n",
       "      <td>1291.00</td>\n",
       "    </tr>\n",
       "  </tbody>\n",
       "</table>\n",
       "</div>"
      ],
      "text/plain": [
       "    Date      USD\n",
       "0   1978   226.00\n",
       "1   1979   512.00\n",
       "2   1980   589.75\n",
       "3   1981   397.50\n",
       "4   1982   456.90\n",
       "5   1983   382.40\n",
       "6   1984   308.30\n",
       "7   1985   326.80\n",
       "8   1986   388.75\n",
       "9   1987   484.10\n",
       "10  1988   410.25\n",
       "11  1989   398.60\n",
       "12  1990   386.20\n",
       "13  1991   353.15\n",
       "14  1992   332.90\n",
       "15  1993   391.75\n",
       "16  1994   383.25\n",
       "17  1995   387.00\n",
       "18  1996   369.25\n",
       "19  1997   290.20\n",
       "20  1998   287.80\n",
       "21  1999   290.25\n",
       "22  2000   274.45\n",
       "23  2001   276.50\n",
       "24  2002   347.20\n",
       "25  2003   416.25\n",
       "26  2004   435.60\n",
       "27  2005   513.00\n",
       "28  2006   632.00\n",
       "29  2007   833.75\n",
       "30  2008   869.75\n",
       "31  2009  1087.50\n",
       "32  2010  1405.50\n",
       "33  2011  1531.00\n",
       "34  2012  1657.50\n",
       "35  2013  1204.50\n",
       "36  2014  1206.00\n",
       "37  2015  1060.00\n",
       "38  2016  1145.90\n",
       "39  2017  1291.00"
      ]
     },
     "execution_count": 110,
     "metadata": {},
     "output_type": "execute_result"
    }
   ],
   "source": [
    "Golddf = pd.read_excel('GoldPrices.xls', sheetname='Annual')\n",
    "Golddf1 = Golddf[['Date','USD']]\n",
    "Golddf1"
   ]
  },
  {
   "cell_type": "code",
   "execution_count": 171,
   "metadata": {
    "collapsed": false
   },
   "outputs": [
    {
     "name": "stdout",
     "output_type": "stream",
     "text": [
      "3    -0.325986\n",
      "4     0.149434\n",
      "5    -0.163055\n",
      "6    -0.193776\n",
      "7     0.060006\n",
      "8     0.189565\n",
      "9     0.245273\n",
      "10   -0.152551\n",
      "11   -0.028397\n",
      "12   -0.031109\n",
      "13   -0.085577\n",
      "14   -0.057341\n",
      "15    0.176780\n",
      "16   -0.021698\n",
      "17    0.009785\n",
      "18   -0.045866\n",
      "19   -0.214083\n",
      "20   -0.008270\n",
      "21    0.008513\n",
      "22   -0.054436\n",
      "23    0.007469\n",
      "24    0.255696\n",
      "25    0.198877\n",
      "26    0.046486\n",
      "27    0.177686\n",
      "28    0.231969\n",
      "29    0.319225\n",
      "30    0.043178\n",
      "31    0.250359\n",
      "32    0.292414\n",
      "33    0.089292\n",
      "34    0.082626\n",
      "35   -0.273303\n",
      "36    0.001245\n",
      "37   -0.121061\n",
      "38    0.081038\n",
      "39    0.126625\n",
      "Name: returns, dtype: float64\n"
     ]
    }
   ],
   "source": [
    "Golddf1['returns'] = Golddf1['USD'] / Golddf1['USD'].shift(1) -1\n",
    "Golddf1 = Golddf1.dropna()\n",
    "GoldRet=Golddf1['returns']\n",
    "print GoldRet"
   ]
  },
  {
   "cell_type": "code",
   "execution_count": 137,
   "metadata": {
    "collapsed": false
   },
   "outputs": [
    {
     "data": {
      "image/png": "[encoded data removed]",
      "text/plain": [
       "<matplotlib.figure.Figure at 0x165663c8>"
      ]
     },
     "metadata": {},
     "output_type": "display_data"
    }
   ],
   "source": [
    "#plt.figure(figsize=(8,4),dpi=100)\n",
    "#plt.scatter(,color=red,blue, alpha=0.2)\n",
    "#fig, ax = plt.subplots()\n",
    "#ax.scatter(SnP500_Adata['returns'], color=\"blue\", alpha=0.2)\n",
    "#ax.scatter(GoldRet[4:], color=\"red\", alpha=0.2)\n",
    "plt.figure(figsize=(8,4),dpi=100)\n",
    "plt.scatter(SnP500_Adata['returns'],GoldRet[4:],alpha=0.5, color='blue')\n",
    "#plt.xlabel('x')\n",
    "#plt.ylabel('y')\n",
    "#plt.title('Scatter Plot y vs. y')\n",
    "plt.show()\n",
    "#Returns are diversified or More dispersed!"
   ]
  },
  {
   "cell_type": "code",
   "execution_count": 269,
   "metadata": {
    "collapsed": false
   },
   "outputs": [
    {
     "data": {
      "text/plain": [
       "(0.034244149601134734,\n",
       " -0.32598558711318359,\n",
       " 0.31922468354430378,\n",
       " 0.15928834133157194)"
      ]
     },
     "execution_count": 269,
     "metadata": {},
     "output_type": "execute_result"
    }
   ],
   "source": [
    "mean(GoldRet), min(GoldRet), max(GoldRet), std(GoldRet)"
   ]
  },
  {
   "cell_type": "code",
   "execution_count": 271,
   "metadata": {
    "collapsed": false
   },
   "outputs": [
    {
     "data": {
      "text/plain": [
       "array([-0.22592671,  0.00978474,  0.26303972])"
      ]
     },
     "execution_count": 271,
     "metadata": {},
     "output_type": "execute_result"
    }
   ],
   "source": [
    "percentile(GoldRet, [5, 50,95])"
   ]
  },
  {
   "cell_type": "code",
   "execution_count": 182,
   "metadata": {
    "collapsed": false
   },
   "outputs": [
    {
     "data": {
      "text/plain": [
       "[0.09922868143885523, 0.034244149601134734]"
      ]
     },
     "execution_count": 182,
     "metadata": {},
     "output_type": "execute_result"
    }
   ],
   "source": [
    "#Simulating the two-assets Portfolio for 5000 Scenarios: 50-50 Weights in Stocks & Gold\n",
    "\n",
    "Altv0 = 5000 # Initial capital\n",
    "AltNs = 2000 # Number of scenarios\n",
    "stockRet = ones(Ns)\n",
    "GRet = ones(Ns)\n",
    "SnP500_mean_ret = float(SnP500_Adata[['returns']].mean())\n",
    "Gold_mean_ret = float(GoldRet.mean())\n",
    "Alt_Port_Return=[SnP500_mean_ret,Gold_mean_ret]\n",
    "Alt_Port_Return #Expected Return"
   ]
  },
  {
   "cell_type": "code",
   "execution_count": 257,
   "metadata": {
    "collapsed": false
   },
   "outputs": [
    {
     "data": {
      "text/plain": [
       "array([[ 0.02526273, -0.00758139],\n",
       "       [-0.00758139,  0.02335421]])"
      ]
     },
     "execution_count": 257,
     "metadata": {},
     "output_type": "execute_result"
    }
   ],
   "source": [
    "#Computing Covariance matrix GOld & S&P 500:\n",
    "\n",
    "AltcovMat = cov(array(SnP500_Adata[['returns']]),array(GoldRet[2:37]),rowvar=0)\n",
    "AltcovMat"
   ]
  },
  {
   "cell_type": "code",
   "execution_count": 258,
   "metadata": {
    "collapsed": false
   },
   "outputs": [],
   "source": [
    "scenarios = random.multivariate_normal(Alt_Port_Return, AltcovMat, AltNs)\n",
    "for year in range(1, 31):\n",
    "    scenarios = random.multivariate_normal(Alt_Port_Return, AltcovMat, AltNs)\n",
    "    stockRet *= (1 + scenarios[:,0])\n",
    "    GRet *= (1 + scenarios[:,1])"
   ]
  },
  {
   "cell_type": "code",
   "execution_count": 259,
   "metadata": {
    "collapsed": true
   },
   "outputs": [],
   "source": [
    "Altv30 = 0.5 * Altv0 * stockRet + 0.5 * Altv0 * GRet"
   ]
  },
  {
   "cell_type": "code",
   "execution_count": 260,
   "metadata": {
    "collapsed": false
   },
   "outputs": [
    {
     "data": {
      "image/png": "[encoded data removed]",
      "text/plain": [
       "<matplotlib.figure.Figure at 0x1a411f98>"
      ]
     },
     "metadata": {},
     "output_type": "display_data"
    }
   ],
   "source": [
    "hist, bins = histogram(Altv30, bins = 100)\n",
    "positions = (bins[:-1] + bins[1:]) / 2\n",
    "width = (bins[1] - bins[0]) * 0.8\n",
    "plt.bar(positions, hist, width=width)\n",
    "plt.xlabel('Alt Portfolio Value after 30 Years')\n",
    "plt.ylabel('frequency')\n",
    "plt.show()"
   ]
  },
  {
   "cell_type": "code",
   "execution_count": 261,
   "metadata": {
    "collapsed": true
   },
   "outputs": [],
   "source": [
    "# Compute portfolio returns by iterating through different combinations of weights\n",
    "Altv30comp = []\n",
    "for w in arange(0.2, 1.01, 0.2):\n",
    "    Altv30comp += [w * Altv0 * stockRet + (1 - w) * Altv0 * GRet]\n",
    "#    Altv30comp[0]=20% Stock & 80% Gold -- Strategy 1\n",
    "#    Altv30comp[1]=40% Stock & 60% Gold -- Strategy 2\n",
    "#    Altv30comp[2]=60% Stock & 40% Gold -- Strategy 3\n",
    "#    Altv30comp[3]=80% Stock & 20% Gold -- Strategy 4"
   ]
  },
  {
   "cell_type": "code",
   "execution_count": 264,
   "metadata": {
    "collapsed": true
   },
   "outputs": [],
   "source": [
    "# Find the differences in outcomes for v30\n",
    "# (e.g.: Stratery 4 - Strategy 1)\n",
    "Altv30d = Altv30comp[3] - Altv30comp[0]"
   ]
  },
  {
   "cell_type": "code",
   "execution_count": 265,
   "metadata": {
    "collapsed": false
   },
   "outputs": [
    {
     "name": "stdout",
     "output_type": "stream",
     "text": [
      "Strategy 4 was better in 1814 cases \n",
      "Strategy 1 was better in 186 cases\n",
      "Difference = 1628\n"
     ]
    }
   ],
   "source": [
    "# Deriving number of elements in v30d that are > 0 and < 0 and compare\n",
    "\n",
    "pos_count = (Altv30d > 0).sum()\n",
    "neg_count = (Altv30d <= 0).sum()\n",
    "\n",
    "print u\"\"\"Strategy 4 was better in %d cases \n",
    "Strategy 1 was better in %d cases\n",
    "Difference = %d\"\"\" % (pos_count, neg_count, pos_count - neg_count)"
   ]
  },
  {
   "cell_type": "markdown",
   "metadata": {},
   "source": [
    "# In either case, the Data shows that the S&P 500 Index has historically  generated better returns as compared to Physical Gold or T-Bill heavy Portfolios. Taking Log return streams & Optimization of the Portfolios using Mean-Variance routes may be the next steps in this portfolio analysis. We assumed no-short-selling here. Faiz-I Mahbub"
   ]
  }
 ],
 "metadata": {
  "kernelspec": {
   "display_name": "Python 2",
   "language": "python",
   "name": "python2"
  },
  "language_info": {
   "codemirror_mode": {
    "name": "ipython",
    "version": 2
   },
   "file_extension": ".py",
   "mimetype": "text/x-python",
   "name": "python",
   "nbconvert_exporter": "python",
   "pygments_lexer": "ipython2",
   "version": "2.7.13"
  }
 },
 "nbformat": 4,
 "nbformat_minor": 2
}
